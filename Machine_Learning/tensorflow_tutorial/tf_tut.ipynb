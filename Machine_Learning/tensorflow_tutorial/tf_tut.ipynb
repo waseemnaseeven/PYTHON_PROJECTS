{
 "cells": [
  {
   "cell_type": "code",
   "execution_count": 4,
   "metadata": {},
   "outputs": [],
   "source": [
    "import tensorflow as tf\n",
    "import pathlib\n",
    "import os\n",
    "import matplotlib.pyplot as plt\n",
    "import pandas as pd\n",
    "import numpy as np\n",
    "\n"
   ]
  },
  {
   "cell_type": "code",
   "execution_count": null,
   "metadata": {},
   "outputs": [],
   "source": []
  },
  {
   "attachments": {},
   "cell_type": "markdown",
   "metadata": {},
   "source": [
    "Securite:\n",
    "\t- Snow crash (9450xp)\n",
    "\t- Rainfall (25200xp)\n",
    "\t- Override (35700xp)\n",
    "\t- ft_malcolm (6000xp)\n",
    "\n",
    "Administration systeme: (En fonction de IA)\n",
    "\t- Badass ()\n",
    "\n",
    "Unix/Kernel:\n",
    "\t- Malloc\n",
    "\t- Taskmaster\n",
    "\n",
    "AI:\n",
    "\t- Tout faire\n",
    "\t- total perspective vortex\n",
    "\n",
    "a partir de niveau 10 si:\n",
    "\t- branche securite + badass = +5.42\n",
    "si juste AI:\n",
    "\t- + 5.00 sans bonus mais prends bcp + de temps\n"
   ]
  }
 ],
 "metadata": {
  "kernelspec": {
   "display_name": "tf_tut",
   "language": "python",
   "name": "python3"
  },
  "language_info": {
   "codemirror_mode": {
    "name": "ipython",
    "version": 3
   },
   "file_extension": ".py",
   "mimetype": "text/x-python",
   "name": "python",
   "nbconvert_exporter": "python",
   "pygments_lexer": "ipython3",
   "version": "3.10.10"
  },
  "orig_nbformat": 4
 },
 "nbformat": 4,
 "nbformat_minor": 2
}
